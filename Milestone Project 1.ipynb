{
 "cells": [
  {
   "cell_type": "code",
   "execution_count": 3,
   "metadata": {
    "collapsed": false
   },
   "outputs": [],
   "source": [
    "# Basic Tic-Tac-Toe\n",
    "# Created by Patrick Vo\n",
    "# Purpose: Fulfill the requirements for Milestone Project 1\n",
    "\n",
    "#Define a board and a function to print it\n",
    "list1 = [' ',' ',' ']   #I didn't think about it at the time, but this would work better\n",
    "list2 = [' ',' ',' ']   #       and look nicer as a nested list. Oh well. \n",
    "list3 = [' ',' ',' ']\n",
    "def boardPrinter(cont):\n",
    "    print list1[0] + '|' + list1[1] + '|' + list1[2]\n",
    "    print '_____'\n",
    "    print list2[0] + '|' + list2[1] + '|' + list2[2]\n",
    "    print '_____'\n",
    "    print list3[0] + '|' + list3[1] + '|' + list3[2]\n",
    "    \n",
    "    if cont == 1:\n",
    "        #We hadn't learned input/output yet, so I had it print this\n",
    "        print'To make a move, call playerMove(row, column, symbol)'\n",
    "\n",
    "\n",
    "#Define a function to mark and change the board\n",
    "def playerMove(row, column, symbol):\n",
    "    global list1 #Affect the global variables\n",
    "    global list2\n",
    "    global list3 \n",
    "    #Replaces spaces of list based on the row and column entered\n",
    "    #Prints an error message if space is occupied\n",
    "    if row ==1:\n",
    "        if list1[column-1] == ' ':\n",
    "            list1[column-1] = symbol\n",
    "        else:\n",
    "                print 'Invalid Move, Please Try Again'\n",
    "    elif row ==2:\n",
    "        if list2[column-1] ==' ':\n",
    "            list2[column-1] = symbol\n",
    "        else:\n",
    "            print 'Invalid Move, Please Try Again'\n",
    "    elif row ==3: \n",
    "        if list3[column-1] == ' ':\n",
    "             list3[column- 1] = symbol\n",
    "        else:\n",
    "            print 'Invalid Move, Please Try Again'\n",
    "    else: \n",
    "        pass\n",
    "#Checks to see if the game has been won or tied\n",
    "    if victoryChecker() == 1:\n",
    "        print symbol, 'has won the game'\n",
    "        boardPrinter(0)\n",
    "    elif victoryChecker() ==2:\n",
    "        print 'Tie Game'\n",
    "        boardPrinter(0)\n",
    "    else:\n",
    "        boardPrinter(1)\n",
    "\n",
    "        \n",
    "        \n",
    "#Define a function to check for victory\n",
    "def victoryChecker ():\n",
    "    for index in range(0, len(list1)):                          #Checks columns\n",
    "        if list1[index] == list2[index] ==list3[index] and list1[index] != ' ':\n",
    "            return 1\n",
    "    \n",
    "        \n",
    "    if list1[0] == list1[1] ==list2[2] and list1[0] != ' ':      #Checks rows\n",
    "        return 1\n",
    "    elif list2[0] == list2[1] == list2[2] and list2[0] != ' ':\n",
    "        return 1\n",
    "    elif list3[0] == list3[1] == list3[2] and list3[0] != ' ':\n",
    "        return 1\n",
    "    elif list1[0] == list2[1] == list3[2] and list1[0] != ' ':   #checks diagonals\n",
    "        return 1\n",
    "    elif list1[2] == list2[1] == list3[0] and list1[0] != ' ':\n",
    "        return 1\n",
    "    elif ' ' not in set(list1) and ' ' not in set(list2) and ' ' not in set(list3): #Checks for a tie if\n",
    "        return 2                                                                    #   none of the above\n",
    "    else:\n",
    "        return 0\n",
    "    "
   ]
  },
  {
   "cell_type": "code",
   "execution_count": 4,
   "metadata": {
    "collapsed": false
   },
   "outputs": [
    {
     "name": "stdout",
     "output_type": "stream",
     "text": [
      " | |X\n",
      "_____\n",
      " | | \n",
      "_____\n",
      " | | \n",
      "To make a move, call playerMove(row, column, symbol)\n",
      " | |X\n",
      "_____\n",
      " | |X\n",
      "_____\n",
      " | | \n",
      "To make a move, call playerMove(row, column, symbol)\n",
      "Invalid Move, Please Try Again\n",
      " | |X\n",
      "_____\n",
      " | |X\n",
      "_____\n",
      " | | \n",
      "To make a move, call playerMove(row, column, symbol)\n"
     ]
    }
   ],
   "source": [
    "playerMove(1,3,'X')\n",
    "playerMove(2,3,'X')\n",
    "playerMove(2,3,'X')\n"
   ]
  },
  {
   "cell_type": "code",
   "execution_count": null,
   "metadata": {
    "collapsed": true
   },
   "outputs": [],
   "source": []
  }
 ],
 "metadata": {
  "kernelspec": {
   "display_name": "Python 2",
   "language": "python",
   "name": "python2"
  },
  "language_info": {
   "codemirror_mode": {
    "name": "ipython",
    "version": 2
   },
   "file_extension": ".py",
   "mimetype": "text/x-python",
   "name": "python",
   "nbconvert_exporter": "python",
   "pygments_lexer": "ipython2",
   "version": "2.7.13"
  }
 },
 "nbformat": 4,
 "nbformat_minor": 2
}
