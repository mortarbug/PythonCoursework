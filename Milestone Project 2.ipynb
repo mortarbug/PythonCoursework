{
 "cells": [
  {
   "cell_type": "code",
   "execution_count": null,
   "metadata": {
    "collapsed": true
   },
   "outputs": [],
   "source": [
    "# My solution to Milestone Project 2:\n",
    "# Create a program that plays Blackjack"
   ]
  },
  {
   "cell_type": "code",
   "execution_count": 16,
   "metadata": {
    "collapsed": false
   },
   "outputs": [],
   "source": [
    "import random\n",
    "class Card(object):\n",
    "    #Create a list of all the possible cards as Class Object Attribute\n",
    "    #Wikipedia tells me that Blackjack decks can consist of multiple 52-card decks put together\n",
    "    #     so I didn't account for drawing without replacement\n",
    "    cardBV = [ '2', '3', '4', '5', '6', '7', '8', '9', '10', 'J', 'Q', 'K', 'A']\n",
    "    cardCV = [2,3,4,5,6,7,8,9,10,10,10,10,11]\n",
    "    \n",
    "    def __init__(self, rngDraw, card = 0, value = 0):\n",
    "        self.rngDraw = rngDraw                       #A draw from a random number generator\n",
    "        self.value = Card.cardCV[self.rngDraw - 2]   #The point value of the card corresponding to the draw\n",
    "        self.card = Card.cardBV[self.rngDraw - 2]    #The actual card corresponding to the draw\n",
    "\n",
    "   "
   ]
  },
  {
   "cell_type": "code",
   "execution_count": 20,
   "metadata": {
    "collapsed": true
   },
   "outputs": [],
   "source": [
    "#The master program to run the game\n",
    "wager = 0\n",
    "playerBankroll = 5000\n",
    "computerBankroll = 5000\n",
    "   \n",
    "def gameflow():\n",
    "    print 'Another game has started'\n",
    "    #Deals 2 cards to the dealer\n",
    "    dealerScore = dealerTurn1()\n",
    "    \n",
    "    #Lets the player make a bet\n",
    "    global wager\n",
    "    wager = int(raw_input ('How much would you like to wager?'))\n",
    "    \n",
    "    #playerScore \n",
    "    playerScore = sum(playerTurn())\n",
    "    dealerScore = sum(dealerTurn2(playerScore, dealerScore))\n",
    "    \n",
    "    victory = victoryChecker(playerScore, dealerScore)\n",
    "    bankRoll(wager, victory)\n",
    "    \n",
    "    again = raw_input ('Would you like to play again?')\n",
    "    if again.upper() == 'YES':\n",
    "        gameflow()\n",
    "    \n",
    "    "
   ]
  },
  {
   "cell_type": "code",
   "execution_count": 17,
   "metadata": {
    "collapsed": false
   },
   "outputs": [],
   "source": [
    "\n",
    "#Deals for the dealer, then moves onto the player's turn, then makes the dealer's turn, then \n",
    "#     calls for the victory checker function\n",
    "def dealerTurn1():\n",
    "    dealerCardValue = ['0'] \n",
    "    dealerCard = ['']\n",
    "    \n",
    "    #Draw and show the dealer's first 2 cards as Card objects. Print out the first card\n",
    "    card1 = Card(rngDraw = random.randint(2,14))    #First random draw for the dealer\n",
    "    dealerCardValue[0] = card1.value                \n",
    "    dealerCardValue = list(dealerCardValue)\n",
    "    dealerCard[0] = card1.card\n",
    "    \n",
    "    card1 = Card(rngDraw = random.randint(2,14))    #Second random draw for the dealer\n",
    "    dealerCardValue = dealerCardValue + [card1.value]\n",
    "    dealerCard = dealerCard + [card1.card]\n",
    "    \n",
    "    print \"The dealer's first card is:\"             #Shows the dealer's first card\n",
    "    print dealerCard [0]\n",
    "    \n",
    "    return dealerCardValue\n",
    "    \n",
    "\n",
    "    \n",
    "def dealerTurn2(playerScore, dealerScore):    \n",
    "    #If the dealer is losing, dealer continues to draw until he wins or busts\n",
    "    while dealerScore < 21 and dealerScore < playerScore:\n",
    "        dealerCardValue = dealerCardValue + [card1.value]\n",
    "        dealerCard = dealerCard + [card1.card]\n",
    "        dealerScore = sum(dealerCardValue)\n",
    "    return dealerScore\n",
    "    \n",
    "    \n",
    "\n",
    "    "
   ]
  },
  {
   "cell_type": "code",
   "execution_count": 18,
   "metadata": {
    "collapsed": false
   },
   "outputs": [],
   "source": [
    "#Deals the player two cards\n",
    "#Asks the player to choose 'Stand' or 'Hit' \n",
    "#Goes until the player chooses 'Stand'\n",
    "def playerTurn():\n",
    "    \n",
    "    playerCardValue = [0]\n",
    "    playerCard = ['']\n",
    "    print \"Player's Turn\"\n",
    "    \n",
    "    card1 = Card(rngDraw = random.randint(2,14))     #First random draw for the player\n",
    "    playerCardValue[0] = card1.value                \n",
    "    playerCardValue = list(playerCardValue)\n",
    "    playerCard[0] = card1.card\n",
    "    \n",
    "    card1 = Card(rngDraw = random.randint(2,14))    #Second random draw for the player\n",
    "    playerCardValue = playerCardValue + [card1.value]\n",
    "    playerCard = playerCard + [card1.card]\n",
    "    \n",
    "    #Prints out cards for the player\n",
    "    print \"Your cards are: \"\n",
    "    print playerCard\n",
    "    \n",
    "    \n",
    "    \n",
    "    \n",
    "    #Gives the player a choice: Stand, or hit\n",
    "    action = str(raw_input ('Choose to stand or hit'))\n",
    "    \n",
    "    while action.upper() != 'STAND': #If the player doesn't choose to stand\n",
    "        if action.upper() != 'HIT':  #If the player also didn't choose to hit prompt them to try again\n",
    "            print 'Please Try Again.'\n",
    "            action = raw_input('Choose to stand or hit')\n",
    "        \n",
    "        elif action.upper() == 'HIT':    # If the player chooses to hit, give them more cards\n",
    "            card1 = Card(rngDraw = random.randint(2,14))    \n",
    "            playerCardValue = playerCardValue + [card1.value]\n",
    "            playerCard = playerCard + [card1.card]\n",
    "            print 'Your cards are now: ' \n",
    "            print playerCard\n",
    "            action = raw_input('Choose to stand or hit')\n",
    "    \n",
    "    #Return the sum of the playerCards\n",
    "    return playerCardValue\n",
    "    "
   ]
  },
  {
   "cell_type": "code",
   "execution_count": 21,
   "metadata": {
    "collapsed": false
   },
   "outputs": [],
   "source": [
    "#Checks for victories \n",
    "def victoryChecker(playerScore, dealerScore):\n",
    "    #returns 1 if player has higher score or computer is bust\n",
    "    if playerScore > dealerScore and playerScore < 21 or dealerScore>21 and playerScore <21:\n",
    "        return 1\n",
    "    #returns 2 if computer has higher score or computer is bust\n",
    "    elif dealerScore > playerScore and dealerScore < 21 or dealerScore < 21 and playerScore > 21:\n",
    "        return 2\n",
    "    else: \n",
    "        return 0"
   ]
  },
  {
   "cell_type": "code",
   "execution_count": 19,
   "metadata": {
    "collapsed": false
   },
   "outputs": [],
   "source": [
    "#Checks for the winner of the game, updates bankroll accordingly\n",
    "def bankRoll (wager, victory): \n",
    "    global playerBankroll\n",
    "    global computerBankroll\n",
    "    \n",
    "    #If the player won, add to the player's bankroll and subtract from the computer's\n",
    "    if victory == 1:\n",
    "        playerBankroll = playerBankroll + wager\n",
    "        computerBankroll = computerBankroll - wager\n",
    "        print 'Human Wins'\n",
    "    #If the computer wins, add to the player's bankroll\n",
    "    elif victory ==2:\n",
    "        playerBankroll = playerBankroll - wager\n",
    "        computerBankroll = computerBankroll + wager\n",
    "        print 'Computer Wins'\n",
    "    #Do nothing if a tie occurs\n",
    "    else: \n",
    "        print 'Tie Game'\n",
    "        pass\n",
    "        \n",
    "    #Adjusts the bankrolls if one is below 0\n",
    "    playerBankroll = max(0, playerBankroll)\n",
    "    computerBankroll = max(0, computerBankroll)\n",
    "    \n",
    "    #Print out the player's bankroll\n",
    "    print \"2)The player's current bankroll is: %s\"  %(playerBankroll)\n",
    "    print \"2)The computer's current bankroll is: %s\" %(computerBankroll)\n",
    "    "
   ]
  },
  {
   "cell_type": "code",
   "execution_count": 22,
   "metadata": {
    "collapsed": false
   },
   "outputs": [
    {
     "name": "stdout",
     "output_type": "stream",
     "text": [
      "Another game has started\n",
      "The dealer's first card is:\n",
      "K\n",
      "How much would you like to wager?5000\n",
      "Player's Turn\n",
      "Your cards are: \n",
      "['5', '10']\n",
      "Choose to stand or hithit\n",
      "Your cards are now: \n",
      "['5', '10', '3']\n",
      "Choose to stand or hitstand\n",
      "Human Wins\n",
      "2)The player's current bankroll is: 10000\n",
      "2)The computer's current bankroll is: 0\n",
      "Would you like to play again?no\n"
     ]
    }
   ],
   "source": [
    "gameflow()"
   ]
  }
 ],
 "metadata": {
  "kernelspec": {
   "display_name": "Python 2",
   "language": "python",
   "name": "python2"
  },
  "language_info": {
   "codemirror_mode": {
    "name": "ipython",
    "version": 2
   },
   "file_extension": ".py",
   "mimetype": "text/x-python",
   "name": "python",
   "nbconvert_exporter": "python",
   "pygments_lexer": "ipython2",
   "version": "2.7.13"
  }
 },
 "nbformat": 4,
 "nbformat_minor": 2
}
